{
 "cells": [
  {
   "cell_type": "code",
   "execution_count": 1,
   "id": "0c91030d",
   "metadata": {},
   "outputs": [],
   "source": [
    "import pandas as pd\n",
    "from scipy import stats\n",
    "whr = pd.read_csv('../data/world-happiness-report.csv')\n",
    "whr_2021 = pd.read_csv('../data/world-happiness-report-2021.csv')"
   ]
  },
  {
   "cell_type": "code",
   "execution_count": 2,
   "id": "93d7abda",
   "metadata": {},
   "outputs": [],
   "source": [
    "# Remove redundant columns\n",
    "whr_2021_drop = ['upperwhisker', 'lowerwhisker', 'Ladder score in Dystopia', 'Dystopia + residual']\n",
    "for col in whr_2021.columns:\n",
    "    if 'Explained by' in col:\n",
    "        whr_2021_drop.append(col)\n",
    "whr_2021.drop(columns=whr_2021_drop, inplace=True)"
   ]
  },
  {
   "cell_type": "code",
   "execution_count": 3,
   "id": "e796ffee",
   "metadata": {},
   "outputs": [],
   "source": [
    "# Rename columns\n",
    "whr_2021.rename(\n",
    "    columns = {\n",
    "        'Country name': 'Country',\n",
    "        'Regional indicator': 'Region',\n",
    "        'Ladder score': 'Happiness Score',\n",
    "        'Standard error of ladder score': 'Happiness Score Std Error',\n",
    "        'Logged GDP per capita': 'GDP Per Capita',\n",
    "        'Social support': 'Social Support',\n",
    "        'Healthy life expectancy': 'Life Expectancy',\n",
    "        'Freedom to make life choices': 'Freedom Of Choice',\n",
    "        'Perceptions of corruption': 'Perceived Corruption'\n",
    "    },\n",
    "    inplace = True\n",
    ")"
   ]
  },
  {
   "cell_type": "code",
   "execution_count": 4,
   "id": "2e114512",
   "metadata": {},
   "outputs": [],
   "source": [
    "# Calculate correlations between each metric and ladder score\n",
    "cors = []\n",
    "for col in whr_2021.columns:\n",
    "    excluded_cols = ['Happiness Score', 'Happiness Score Std Error']\n",
    "    if (isinstance(whr_2021[col][0], float)) & (col not in excluded_cols):\n",
    "        cors.append({\n",
    "            'Factor': col,\n",
    "            'Correlation': stats.pearsonr(whr_2021['Happiness Score'], whr_2021[col])[0]\n",
    "        })"
   ]
  },
  {
   "cell_type": "code",
   "execution_count": 12,
   "id": "1ba2a4b1",
   "metadata": {},
   "outputs": [],
   "source": [
    "# Correlation Dataframe\n",
    "factor_cors = pd.DataFrame(cors)\n",
    "factor_cors.sort_values(by='Correlation', ascending=False, inplace=True)\n",
    "factor_cors.to_csv('../data/Correlations.csv',index=False)"
   ]
  },
  {
   "cell_type": "code",
   "execution_count": 6,
   "id": "eb51b934",
   "metadata": {},
   "outputs": [
    {
     "data": {
      "text/plain": [
       "<AxesSubplot:title={'center':'Correlation Between Factors and Happiness Score'}, xlabel='Factor', ylabel='Correlation'>"
      ]
     },
     "execution_count": 6,
     "metadata": {},
     "output_type": "execute_result"
    },
    {
     "data": {
      "image/png": "[encoded data removed]",
      "text/plain": [
       "<Figure size 432x288 with 1 Axes>"
      ]
     },
     "metadata": {
      "needs_background": "light"
     },
     "output_type": "display_data"
    }
   ],
   "source": [
    "factor_cors.plot.bar(\n",
    "    x='Factor',\n",
    "    y='Correlation',\n",
    "    title='Correlation Between Factors and Happiness Score',\n",
    "    legend=False,\n",
    "    xlabel='Factor',\n",
    "    ylabel='Correlation',\n",
    "    sort_columns=True\n",
    ")"
   ]
  },
  {
   "cell_type": "code",
   "execution_count": null,
   "id": "b6ddb89d",
   "metadata": {},
   "outputs": [],
   "source": []
  }
 ],
 "metadata": {
  "kernelspec": {
   "display_name": "Python 3",
   "language": "python",
   "name": "python3"
  },
  "language_info": {
   "codemirror_mode": {
    "name": "ipython",
    "version": 3
   },
   "file_extension": ".py",
   "mimetype": "text/x-python",
   "name": "python",
   "nbconvert_exporter": "python",
   "pygments_lexer": "ipython3",
   "version": "3.7.1"
  }
 },
 "nbformat": 4,
 "nbformat_minor": 5
}
